{
 "cells": [
  {
   "cell_type": "code",
   "execution_count": 1,
   "id": "ea78b1c3-4cf8-4205-8022-94d6b30fdc0d",
   "metadata": {
    "tags": []
   },
   "outputs": [],
   "source": [
    "sumaLista :: [Int] -> Int\n",
    "sumaLista = sum\n",
    "-- o con foldl:\n",
    "-- sumaLista = foldl (+) 0"
   ]
  },
  {
   "cell_type": "code",
   "execution_count": 2,
   "id": "4196ce95-99fd-487d-bd36-2b4324d8c84d",
   "metadata": {
    "tags": []
   },
   "outputs": [],
   "source": [
    "mayoresQue10 :: [Int] -> Int\n",
    "mayoresQue10 = length . filter (>10)\n"
   ]
  },
  {
   "cell_type": "code",
   "execution_count": 3,
   "id": "b617d8a9-9cdc-45e9-8a3e-2df827b14dea",
   "metadata": {
    "tags": []
   },
   "outputs": [],
   "source": [
    "productoLista :: [Int] -> Int\n",
    "productoLista = product\n",
    "-- o con foldl:\n",
    "-- productoLista = foldl (*) 1\n"
   ]
  },
  {
   "cell_type": "code",
   "execution_count": 4,
   "id": "3fd4498f-107f-406f-96eb-633d670d7761",
   "metadata": {
    "tags": []
   },
   "outputs": [],
   "source": [
    "celsiusAFahrenheit :: [Double] -> [Double]\n",
    "celsiusAFahrenheit = map (\\c -> c * 1.8 + 32)\n"
   ]
  },
  {
   "cell_type": "code",
   "execution_count": null,
   "id": "9bf5bddc-5be2-4634-9593-7a3f6e9e3998",
   "metadata": {},
   "outputs": [],
   "source": [
    "ajustarImpares :: [Int] -> [Int]\n",
    "ajustarImpares = map (\\x -> if odd x then x + 5 else x)\n"
   ]
  }
 ],
 "metadata": {
  "kernelspec": {
   "display_name": "Haskell",
   "language": "haskell",
   "name": "haskell"
  },
  "language_info": {
   "codemirror_mode": "ihaskell",
   "file_extension": ".hs",
   "mimetype": "text/x-haskell",
   "name": "haskell",
   "pygments_lexer": "Haskell",
   "version": "9.6.4"
  }
 },
 "nbformat": 4,
 "nbformat_minor": 5
}
