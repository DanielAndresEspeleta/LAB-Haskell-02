{
 "cells": [
  {
   "cell_type": "code",
   "execution_count": 1,
   "id": "0fecb8f8-8fc3-412a-8b9a-bba02c259218",
   "metadata": {
    "tags": []
   },
   "outputs": [],
   "source": [
    "cuadrados :: [Int]\n",
    "cuadrados = [x^2 | x <- [1..10]]\n"
   ]
  },
  {
   "cell_type": "code",
   "execution_count": 2,
   "id": "98cf181f-2a4a-447e-b737-129ba5be683a",
   "metadata": {
    "tags": []
   },
   "outputs": [],
   "source": [
    "divisiblesPor3 :: [Int]\n",
    "divisiblesPor3 = [x | x <- [1..30], x `mod` 3 == 0]\n"
   ]
  },
  {
   "cell_type": "code",
   "execution_count": 3,
   "id": "a559a810-22b4-405a-bd73-0bee8ee59690",
   "metadata": {
    "tags": []
   },
   "outputs": [],
   "source": [
    "paresXY :: [(Int, Int)]\n",
    "paresXY = [(x, y) | x <- [1..5], y <- [1..5], x < y]"
   ]
  },
  {
   "cell_type": "code",
   "execution_count": 5,
   "id": "90201349-a0a7-4b96-8b6a-98451cfc1e12",
   "metadata": {
    "tags": []
   },
   "outputs": [],
   "source": [
    "divisores :: Int -> [Int]\n",
    "divisores n = [x | x <- [1..n], n `mod` x == 0]\n"
   ]
  },
  {
   "cell_type": "code",
   "execution_count": 6,
   "id": "6540c992-69ee-4efa-86be-7e72aad295f8",
   "metadata": {
    "tags": []
   },
   "outputs": [],
   "source": [
    "divisoresPropios :: Int -> [Int]\n",
    "divisoresPropios n = [x | x <- [1..n-1], n `mod` x == 0]\n",
    "\n",
    "esPerfecto :: Int -> Bool\n",
    "esPerfecto n = sum (divisoresPropios n) == n\n"
   ]
  }
 ],
 "metadata": {
  "kernelspec": {
   "display_name": "Haskell",
   "language": "haskell",
   "name": "haskell"
  },
  "language_info": {
   "codemirror_mode": "ihaskell",
   "file_extension": ".hs",
   "mimetype": "text/x-haskell",
   "name": "haskell",
   "pygments_lexer": "Haskell",
   "version": "9.6.4"
  }
 },
 "nbformat": 4,
 "nbformat_minor": 5
}
