{
 "cells": [
  {
   "cell_type": "code",
   "execution_count": 4,
   "id": "04966730-d9e0-4da4-8017-6323d518029c",
   "metadata": {
    "tags": []
   },
   "outputs": [],
   "source": [
    "-- Tipos para representar estados\n",
    "type Estado = (Int, Int)  -- (litros en jarra A, litros en jarra B)\n",
    "type Nodo = Estado\n",
    "type Costo = Int\n",
    "\n",
    "-- Capacidades de las jarras\n",
    "capA, capB :: Int\n",
    "capA = 5\n",
    "capB = 3\n"
   ]
  },
  {
   "cell_type": "code",
   "execution_count": 5,
   "id": "5f4795ad-085f-48e9-a222-2171e666c6e3",
   "metadata": {
    "tags": []
   },
   "outputs": [],
   "source": [
    "-- Verter de A hacia B (jarra de 5L a 3L)\n",
    "transferirAB :: Estado -> Estado\n",
    "transferirAB (a, b) =\n",
    "  let espacioB = capB - b\n",
    "      transferido = min a espacioB\n",
    "  in (a - transferido, b + transferido)\n",
    "\n",
    "-- Verter de B hacia A (jarra de 3L a 5L)\n",
    "transferirBA :: Estado -> Estado\n",
    "transferirBA (a, b) =\n",
    "  let espacioA = capA - a\n",
    "      transferido = min b espacioA\n",
    "  in (a + transferido, b - transferido)\n"
   ]
  },
  {
   "cell_type": "code",
   "execution_count": 6,
   "id": "c104fc7b-b9a5-4393-9280-40f445084734",
   "metadata": {
    "tags": []
   },
   "outputs": [],
   "source": [
    "-- Estados vecinos: operaciones válidas\n",
    "vecinos :: Estado -> [(Estado, Costo)]\n",
    "vecinos (a, b) =\n",
    "  [ ((capA, b), 1)           -- Llenar A\n",
    "  , ((a, capB), 1)           -- Llenar B\n",
    "  , ((0, b), 1)              -- Vaciar A\n",
    "  , ((a, 0), 1)              -- Vaciar B\n",
    "  , (transferirAB (a, b), 1) -- Verter A → B\n",
    "  , (transferirBA (a, b), 1) -- Verter B → A\n",
    "  ]\n"
   ]
  },
  {
   "cell_type": "code",
   "execution_count": 7,
   "id": "cb61dccf-fef5-4508-a748-260cef3bed0d",
   "metadata": {
    "tags": []
   },
   "outputs": [],
   "source": [
    "heuristica :: Estado -> Costo\n",
    "heuristica (a, b) = min (abs (4 - a)) (abs (4 - b))\n"
   ]
  },
  {
   "cell_type": "code",
   "execution_count": 8,
   "id": "7f1e818d-1735-4d88-8f54-f14aa590a307",
   "metadata": {
    "tags": []
   },
   "outputs": [],
   "source": [
    "import Data.List (sortOn)\n",
    "\n",
    "aStar :: (Nodo -> [(Nodo, Costo)])  -- función para obtener vecinos\n",
    "      -> (Nodo -> Costo)             -- heurística\n",
    "      -> Nodo                       -- estado inicial\n",
    "      -> (Nodo -> Bool)             -- condición de meta\n",
    "      -> [(Nodo, Costo)]            -- resultado: camino con costos\n",
    "\n",
    "aStar sucesores heuristica inicio esMeta = buscar [(inicio, 0)] []\n",
    "  where\n",
    "    buscar [] _ = []\n",
    "    buscar ((nodo, costo):cola) visitados\n",
    "      | esMeta nodo = [(nodo, costo)]\n",
    "      | nodo `elem` visitados = buscar cola visitados\n",
    "      | otherwise =\n",
    "          let nuevos = [ (v, costo + c) | (v, c) <- sucesores nodo, v `notElem` visitados ]\n",
    "              ordenados = sortOn (\\(v, c) -> c + heuristica v) (cola ++ nuevos)\n",
    "          in (nodo, costo) : buscar ordenados (nodo : visitados)\n"
   ]
  },
  {
   "cell_type": "code",
   "execution_count": 9,
   "id": "f2d9a550-33bb-4b4c-8c2f-248c4794e442",
   "metadata": {
    "tags": []
   },
   "outputs": [],
   "source": [
    "inicio :: Estado\n",
    "inicio = (0, 0)\n",
    "\n",
    "esMeta :: Estado -> Bool\n",
    "esMeta (a, b) = a == 4 || b == 4\n",
    "\n",
    "solucion :: [(Estado, Costo)]\n",
    "solucion = aStar vecinos heuristica inicio esMeta\n"
   ]
  },
  {
   "cell_type": "code",
   "execution_count": 10,
   "id": "f29e3257-4c42-4515-8ecf-634ede24205f",
   "metadata": {
    "tags": []
   },
   "outputs": [],
   "source": [
    "main :: IO ()\n",
    "main = do\n",
    "  putStrLn \"Secuencia de estados hasta alcanzar 4 litros:\"\n",
    "  mapM_ print solucion\n"
   ]
  },
  {
   "cell_type": "code",
   "execution_count": null,
   "id": "239b8efd-cc18-4d86-9785-84cc1427ca25",
   "metadata": {},
   "outputs": [],
   "source": []
  }
 ],
 "metadata": {
  "kernelspec": {
   "display_name": "Haskell",
   "language": "haskell",
   "name": "haskell"
  },
  "language_info": {
   "codemirror_mode": "ihaskell",
   "file_extension": ".hs",
   "mimetype": "text/x-haskell",
   "name": "haskell",
   "pygments_lexer": "Haskell",
   "version": "9.6.4"
  }
 },
 "nbformat": 4,
 "nbformat_minor": 5
}
